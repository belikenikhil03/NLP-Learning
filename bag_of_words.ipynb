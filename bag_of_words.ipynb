{
 "cells": [
  {
   "cell_type": "code",
   "execution_count": 35,
   "metadata": {},
   "outputs": [
    {
     "name": "stdout",
     "output_type": "stream",
     "text": [
      "Requirement already satisfied: nltk in e:\\projects\\nlp-learning\\venv\\lib\\site-packages (3.8.1)\n",
      "Requirement already satisfied: click in e:\\projects\\nlp-learning\\venv\\lib\\site-packages (from nltk) (8.1.7)\n",
      "Requirement already satisfied: joblib in e:\\projects\\nlp-learning\\venv\\lib\\site-packages (from nltk) (1.4.2)\n",
      "Requirement already satisfied: regex>=2021.8.3 in e:\\projects\\nlp-learning\\venv\\lib\\site-packages (from nltk) (2024.7.24)\n",
      "Requirement already satisfied: tqdm in e:\\projects\\nlp-learning\\venv\\lib\\site-packages (from nltk) (4.66.4)\n",
      "Requirement already satisfied: colorama in e:\\projects\\nlp-learning\\venv\\lib\\site-packages (from click->nltk) (0.4.6)\n",
      "Note: you may need to restart the kernel to use updated packages.\n"
     ]
    }
   ],
   "source": [
    "pip install nltk"
   ]
  },
  {
   "cell_type": "code",
   "execution_count": 36,
   "metadata": {},
   "outputs": [],
   "source": [
    "paragraph = \"\"\"Virat Kohli, one of the most prolific batsmen in modern cricket, has earned a reputation for his exceptional batting skills and aggressive playing style. Born on November 5, 1988, in Delhi, India, Kohli's journey to cricketing stardom began at a young age. He captained the Indian U-19 team to victory in the 2008 ICC U-19 Cricket World Cup, which marked the beginning of his rise in international cricket. Known for his consistency and ability to chase down targets, Kohli has shattered numerous records, including being the fastest to reach 8,000, 9,000, 10,000, and 11,000 runs in One Day Internationals (ODIs). His leadership as the captain of the Indian cricket team led to several memorable victories, both in Test matches and limited-overs formats. Off the field, Kohli is admired for his fitness regimen, charismatic personality, and philanthropic efforts, making him an influential figure in sports and beyond.\"\"\""
   ]
  },
  {
   "cell_type": "code",
   "execution_count": 37,
   "metadata": {},
   "outputs": [
    {
     "data": {
      "text/plain": [
       "\"Virat Kohli, one of the most prolific batsmen in modern cricket, has earned a reputation for his exceptional batting skills and aggressive playing style. Born on November 5, 1988, in Delhi, India, Kohli's journey to cricketing stardom began at a young age. He captained the Indian U-19 team to victory in the 2008 ICC U-19 Cricket World Cup, which marked the beginning of his rise in international cricket. Known for his consistency and ability to chase down targets, Kohli has shattered numerous records, including being the fastest to reach 8,000, 9,000, 10,000, and 11,000 runs in One Day Internationals (ODIs). His leadership as the captain of the Indian cricket team led to several memorable victories, both in Test matches and limited-overs formats. Off the field, Kohli is admired for his fitness regimen, charismatic personality, and philanthropic efforts, making him an influential figure in sports and beyond.\""
      ]
     },
     "execution_count": 37,
     "metadata": {},
     "output_type": "execute_result"
    }
   ],
   "source": [
    "paragraph"
   ]
  },
  {
   "cell_type": "code",
   "execution_count": 38,
   "metadata": {},
   "outputs": [],
   "source": [
    "import nltk\n",
    "from nltk.stem import PorterStemmer\n",
    "from nltk.corpus import stopwords"
   ]
  },
  {
   "cell_type": "code",
   "execution_count": 39,
   "metadata": {},
   "outputs": [
    {
     "name": "stderr",
     "output_type": "stream",
     "text": [
      "[nltk_data] Downloading package punkt to C:\\Users\\Payal\n",
      "[nltk_data]     Arora\\AppData\\Roaming\\nltk_data...\n",
      "[nltk_data]   Package punkt is already up-to-date!\n"
     ]
    },
    {
     "data": {
      "text/plain": [
       "True"
      ]
     },
     "execution_count": 39,
     "metadata": {},
     "output_type": "execute_result"
    }
   ],
   "source": [
    "nltk.download(\"punkt\")"
   ]
  },
  {
   "cell_type": "code",
   "execution_count": 40,
   "metadata": {},
   "outputs": [],
   "source": [
    "sentences = nltk.sent_tokenize(paragraph)"
   ]
  },
  {
   "cell_type": "code",
   "execution_count": 41,
   "metadata": {},
   "outputs": [
    {
     "data": {
      "text/plain": [
       "6"
      ]
     },
     "execution_count": 41,
     "metadata": {},
     "output_type": "execute_result"
    }
   ],
   "source": [
    "len(sentences)"
   ]
  },
  {
   "cell_type": "code",
   "execution_count": 42,
   "metadata": {},
   "outputs": [],
   "source": [
    "import re\n",
    "corpus = []\n",
    "for i in range(len(sentences)):\n",
    "    review = re.sub('[^a-zA-Z]', ' ', sentences[i])\n",
    "    review = review.lower()\n",
    "    corpus.append(review)"
   ]
  },
  {
   "cell_type": "code",
   "execution_count": 43,
   "metadata": {},
   "outputs": [],
   "source": [
    "stemmer = PorterStemmer()"
   ]
  },
  {
   "cell_type": "code",
   "execution_count": 44,
   "metadata": {},
   "outputs": [
    {
     "data": {
      "text/plain": [
       "['virat kohli  one of the most prolific batsmen in modern cricket  has earned a reputation for his exceptional batting skills and aggressive playing style ',\n",
       " 'born on november          in delhi  india  kohli s journey to cricketing stardom began at a young age ',\n",
       " 'he captained the indian u    team to victory in the      icc u    cricket world cup  which marked the beginning of his rise in international cricket ',\n",
       " 'known for his consistency and ability to chase down targets  kohli has shattered numerous records  including being the fastest to reach                       and        runs in one day internationals  odis  ',\n",
       " 'his leadership as the captain of the indian cricket team led to several memorable victories  both in test matches and limited overs formats ',\n",
       " 'off the field  kohli is admired for his fitness regimen  charismatic personality  and philanthropic efforts  making him an influential figure in sports and beyond ']"
      ]
     },
     "execution_count": 44,
     "metadata": {},
     "output_type": "execute_result"
    }
   ],
   "source": [
    "corpus"
   ]
  },
  {
   "cell_type": "code",
   "execution_count": 45,
   "metadata": {},
   "outputs": [
    {
     "name": "stdout",
     "output_type": "stream",
     "text": [
      "virat kohli  one of the most prolific batsmen in modern cricket  has earned a reputation for his exceptional batting skills and aggressive playing styl\n",
      "born on november          in delhi  india  kohli s journey to cricketing stardom began at a young ag\n",
      "he captained the indian u    team to victory in the      icc u    cricket world cup  which marked the beginning of his rise in international cricket\n",
      "known for his consistency and ability to chase down targets  kohli has shattered numerous records  including being the fastest to reach                       and        runs in one day internationals  odi\n",
      "his leadership as the captain of the indian cricket team led to several memorable victories  both in test matches and limited overs format\n",
      "off the field  kohli is admired for his fitness regimen  charismatic personality  and philanthropic efforts  making him an influential figure in sports and beyond\n"
     ]
    }
   ],
   "source": [
    "for i in corpus:\n",
    "    words = nltk.sent_tokenize(i)\n",
    "    for word in words:\n",
    "        if word not in set(stopwords.words('english')):\n",
    "            print(stemmer.stem(word))\n"
   ]
  },
  {
   "cell_type": "code",
   "execution_count": 46,
   "metadata": {},
   "outputs": [],
   "source": [
    "from nltk.stem import WordNetLemmatizer\n",
    "lemmatizer = WordNetLemmatizer()"
   ]
  },
  {
   "cell_type": "code",
   "execution_count": 47,
   "metadata": {},
   "outputs": [
    {
     "name": "stdout",
     "output_type": "stream",
     "text": [
      "virat kohli  one of the most prolific batsmen in modern cricket  has earned a reputation for his exceptional batting skills and aggressive playing style\n",
      "born on november          in delhi  india  kohli s journey to cricketing stardom began at a young age\n",
      "he captained the indian u    team to victory in the      icc u    cricket world cup  which marked the beginning of his rise in international cricket\n",
      "known for his consistency and ability to chase down targets  kohli has shattered numerous records  including being the fastest to reach                       and        runs in one day internationals  odis\n",
      "his leadership as the captain of the indian cricket team led to several memorable victories  both in test matches and limited overs formats\n",
      "off the field  kohli is admired for his fitness regimen  charismatic personality  and philanthropic efforts  making him an influential figure in sports and beyond\n"
     ]
    }
   ],
   "source": [
    "for i in corpus:\n",
    "    words = nltk.sent_tokenize(i)\n",
    "    for word in words:\n",
    "        if word not in set(stopwords.words('english')):\n",
    "            print(lemmatizer.lemmatize(word))"
   ]
  },
  {
   "cell_type": "code",
   "execution_count": 48,
   "metadata": {},
   "outputs": [],
   "source": [
    "from sklearn.feature_extraction.text import CountVectorizer\n",
    "cv = CountVectorizer()"
   ]
  },
  {
   "cell_type": "code",
   "execution_count": 33,
   "metadata": {},
   "outputs": [
    {
     "name": "stdout",
     "output_type": "stream",
     "text": [
      "Collecting scikit-learn\n",
      "  Using cached scikit_learn-1.3.2-cp38-cp38-win_amd64.whl.metadata (11 kB)\n",
      "Collecting numpy<2.0,>=1.17.3 (from scikit-learn)\n",
      "  Using cached numpy-1.24.4-cp38-cp38-win_amd64.whl.metadata (5.6 kB)\n",
      "Collecting scipy>=1.5.0 (from scikit-learn)\n",
      "  Using cached scipy-1.10.1-cp38-cp38-win_amd64.whl.metadata (58 kB)\n",
      "Requirement already satisfied: joblib>=1.1.1 in e:\\projects\\nlp-learning\\venv\\lib\\site-packages (from scikit-learn) (1.4.2)\n",
      "Collecting threadpoolctl>=2.0.0 (from scikit-learn)\n",
      "  Using cached threadpoolctl-3.5.0-py3-none-any.whl.metadata (13 kB)\n",
      "Using cached scikit_learn-1.3.2-cp38-cp38-win_amd64.whl (9.3 MB)\n",
      "Using cached numpy-1.24.4-cp38-cp38-win_amd64.whl (14.9 MB)\n",
      "Using cached scipy-1.10.1-cp38-cp38-win_amd64.whl (42.2 MB)\n",
      "Using cached threadpoolctl-3.5.0-py3-none-any.whl (18 kB)\n",
      "Installing collected packages: threadpoolctl, numpy, scipy, scikit-learn\n",
      "Successfully installed numpy-1.24.4 scikit-learn-1.3.2 scipy-1.10.1 threadpoolctl-3.5.0\n",
      "Note: you may need to restart the kernel to use updated packages.\n"
     ]
    }
   ],
   "source": [
    "pip install scikit-learn"
   ]
  },
  {
   "cell_type": "code",
   "execution_count": 49,
   "metadata": {},
   "outputs": [],
   "source": [
    "X = cv.fit_transform(corpus)"
   ]
  },
  {
   "cell_type": "code",
   "execution_count": 50,
   "metadata": {},
   "outputs": [
    {
     "data": {
      "text/plain": [
       "{'virat': 92,\n",
       " 'kohli': 51,\n",
       " 'one': 67,\n",
       " 'of': 64,\n",
       " 'the': 88,\n",
       " 'most': 60,\n",
       " 'prolific': 72,\n",
       " 'batsmen': 8,\n",
       " 'in': 41,\n",
       " 'modern': 59,\n",
       " 'cricket': 21,\n",
       " 'has': 36,\n",
       " 'earned': 27,\n",
       " 'reputation': 76,\n",
       " 'for': 34,\n",
       " 'his': 39,\n",
       " 'exceptional': 29,\n",
       " 'batting': 9,\n",
       " 'skills': 81,\n",
       " 'and': 5,\n",
       " 'aggressive': 3,\n",
       " 'playing': 71,\n",
       " 'style': 84,\n",
       " 'born': 14,\n",
       " 'on': 66,\n",
       " 'november': 61,\n",
       " 'delhi': 25,\n",
       " 'india': 43,\n",
       " 'journey': 49,\n",
       " 'to': 89,\n",
       " 'cricketing': 22,\n",
       " 'stardom': 83,\n",
       " 'began': 10,\n",
       " 'at': 7,\n",
       " 'young': 95,\n",
       " 'age': 2,\n",
       " 'he': 37,\n",
       " 'captained': 17,\n",
       " 'indian': 44,\n",
       " 'team': 86,\n",
       " 'victory': 91,\n",
       " 'icc': 40,\n",
       " 'world': 94,\n",
       " 'cup': 23,\n",
       " 'which': 93,\n",
       " 'marked': 56,\n",
       " 'beginning': 11,\n",
       " 'rise': 77,\n",
       " 'international': 46,\n",
       " 'known': 50,\n",
       " 'consistency': 20,\n",
       " 'ability': 0,\n",
       " 'chase': 19,\n",
       " 'down': 26,\n",
       " 'targets': 85,\n",
       " 'shattered': 80,\n",
       " 'numerous': 62,\n",
       " 'records': 74,\n",
       " 'including': 42,\n",
       " 'being': 12,\n",
       " 'fastest': 30,\n",
       " 'reach': 73,\n",
       " 'runs': 78,\n",
       " 'day': 24,\n",
       " 'internationals': 47,\n",
       " 'odis': 63,\n",
       " 'leadership': 52,\n",
       " 'as': 6,\n",
       " 'captain': 16,\n",
       " 'led': 53,\n",
       " 'several': 79,\n",
       " 'memorable': 58,\n",
       " 'victories': 90,\n",
       " 'both': 15,\n",
       " 'test': 87,\n",
       " 'matches': 57,\n",
       " 'limited': 54,\n",
       " 'overs': 68,\n",
       " 'formats': 35,\n",
       " 'off': 65,\n",
       " 'field': 31,\n",
       " 'is': 48,\n",
       " 'admired': 1,\n",
       " 'fitness': 33,\n",
       " 'regimen': 75,\n",
       " 'charismatic': 18,\n",
       " 'personality': 69,\n",
       " 'philanthropic': 70,\n",
       " 'efforts': 28,\n",
       " 'making': 55,\n",
       " 'him': 38,\n",
       " 'an': 4,\n",
       " 'influential': 45,\n",
       " 'figure': 32,\n",
       " 'sports': 82,\n",
       " 'beyond': 13}"
      ]
     },
     "execution_count": 50,
     "metadata": {},
     "output_type": "execute_result"
    }
   ],
   "source": [
    "cv.vocabulary_"
   ]
  },
  {
   "cell_type": "code",
   "execution_count": 51,
   "metadata": {},
   "outputs": [
    {
     "data": {
      "text/plain": [
       "array([[0, 0, 0, 1, 0, 1, 0, 0, 1, 1, 0, 0, 0, 0, 0, 0, 0, 0, 0, 0, 0, 1,\n",
       "        0, 0, 0, 0, 0, 1, 0, 1, 0, 0, 0, 0, 1, 0, 1, 0, 0, 1, 0, 1, 0, 0,\n",
       "        0, 0, 0, 0, 0, 0, 0, 1, 0, 0, 0, 0, 0, 0, 0, 1, 1, 0, 0, 0, 1, 0,\n",
       "        0, 1, 0, 0, 0, 1, 1, 0, 0, 0, 1, 0, 0, 0, 0, 1, 0, 0, 1, 0, 0, 0,\n",
       "        1, 0, 0, 0, 1, 0, 0, 0]], dtype=int64)"
      ]
     },
     "execution_count": 51,
     "metadata": {},
     "output_type": "execute_result"
    }
   ],
   "source": [
    "X[0].toarray()"
   ]
  },
  {
   "cell_type": "code",
   "execution_count": null,
   "metadata": {},
   "outputs": [],
   "source": []
  }
 ],
 "metadata": {
  "kernelspec": {
   "display_name": "Python 3",
   "language": "python",
   "name": "python3"
  },
  "language_info": {
   "codemirror_mode": {
    "name": "ipython",
    "version": 3
   },
   "file_extension": ".py",
   "mimetype": "text/x-python",
   "name": "python",
   "nbconvert_exporter": "python",
   "pygments_lexer": "ipython3",
   "version": "3.8.19"
  }
 },
 "nbformat": 4,
 "nbformat_minor": 2
}
